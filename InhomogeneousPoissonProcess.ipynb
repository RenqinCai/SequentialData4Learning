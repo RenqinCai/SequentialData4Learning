{
 "cells": [
  {
   "cell_type": "code",
   "execution_count": 26,
   "metadata": {
    "collapsed": true
   },
   "outputs": [],
   "source": [
    "import math\n",
    "import numpy as np"
   ]
  },
  {
   "cell_type": "code",
   "execution_count": 2,
   "metadata": {
    "collapsed": true
   },
   "outputs": [],
   "source": [
    "import random"
   ]
  },
  {
   "cell_type": "code",
   "execution_count": 3,
   "metadata": {
    "collapsed": true
   },
   "outputs": [],
   "source": [
    "def nextTime(rateParam):\n",
    "    return -math.log(1.0-random.random())/rateParam\n",
    "\n",
    "def nextTime_np(rateParam):\n",
    "    return random.expovariate(rateParam)"
   ]
  },
  {
   "cell_type": "code",
   "execution_count": 4,
   "metadata": {},
   "outputs": [
    {
     "data": {
      "text/plain": [
       "64.37751649736401"
      ]
     },
     "execution_count": 4,
     "metadata": {},
     "output_type": "execute_result"
    }
   ],
   "source": [
    "-math.log(0.2)*40"
   ]
  },
  {
   "cell_type": "code",
   "execution_count": 29,
   "metadata": {
    "collapsed": true
   },
   "outputs": [],
   "source": [
    "def acceptOrReject(baseRate, generatingRate):\n",
    "    randomSample = random.random()\n",
    "    if randomSample > generatingRate/baseRate:\n",
    "        return False\n",
    "    else:\n",
    "        return True"
   ]
  },
  {
   "cell_type": "code",
   "execution_count": 27,
   "metadata": {
    "collapsed": true
   },
   "outputs": [],
   "source": [
    "def generateSample4Imhomogeneous(baseRate, generatingBaseRate, timeThreshold):\n",
    "    generateIndex = 0\n",
    "    baseIndex = 0\n",
    "    lastGenerateTime = 0\n",
    "    curGenerateTime = 0\n",
    "    lastBaseTime = 0\n",
    "    curBaseTime = 0\n",
    "    generateTimeList = []\n",
    "    \n",
    "    while curGenerateTime < timeThreshold:\n",
    "        timeInterval4Base = nextTime(baseRate)\n",
    "        curBaseTime = lastBaseTime + timeInterval4Base\n",
    "        generatingRate = obtainGenerateRate(generatingBaseRate, curBaseTime)\n",
    "        if acceptOrReject(baseRate, generatingRate):\n",
    "            curGenerateTime = curBaseTime\n",
    "            generateTimeList.append(curGenerateTime)\n",
    "            \n",
    "        lastBaseTime = curBaseTime\n",
    "    \n",
    "    return generateTimeList\n",
    "\n",
    "def obtainGenerateRate(generatingBaseRate, curTimeStamp):\n",
    "    generatingRate = generatingBaseRate + np.sin(curTimeStamp)\n",
    "    \n",
    "    return generatingRate\n",
    "    "
   ]
  },
  {
   "cell_type": "code",
   "execution_count": 9,
   "metadata": {
    "collapsed": true
   },
   "outputs": [],
   "source": [
    "def generateSample4Homogeneous(baseRate, timeThreshold):\n",
    "    generateTimeList = []\n",
    "    lastGenerateTime = 0\n",
    "    \n",
    "    while True:\n",
    "        timeInterval4Base = nextTime(baseRate)\n",
    "        curGenerateTime = lastGenerateTime+timeInterval4Base\n",
    "        if curGenerateTime > timeThreshold:\n",
    "            break\n",
    "        else:\n",
    "            generateTimeList.append(curGenerateTime)\n",
    "        \n",
    "        lastGenerateTime = curGenerateTime\n",
    "            \n",
    "    return generateTimeList\n"
   ]
  },
  {
   "cell_type": "code",
   "execution_count": 22,
   "metadata": {
    "collapsed": true
   },
   "outputs": [],
   "source": [
    "import matplotlib.pyplot as plt\n",
    "def plotTimeLine(generateTimeList):\n",
    "    generateTimeListLen = len(generateTimeList)\n",
    "    y = [1 for i in range(generateTimeListLen)]\n",
    "    c = ['red' for i in range(generateTimeListLen)]\n",
    "    print generateTimeListLen\n",
    "#     print generateTimeList, y\n",
    "    plt.scatter(generateTimeList, y, color=c, s=30)\n",
    "    \n",
    "    plt.show()"
   ]
  },
  {
   "cell_type": "code",
   "execution_count": 23,
   "metadata": {},
   "outputs": [
    {
     "name": "stdout",
     "output_type": "stream",
     "text": [
      "44\n"
     ]
    },
    {
     "data": {
      "image/png": "[encoded data removed]",
      "text/plain": [
       "<matplotlib.figure.Figure at 0x7f70df859850>"
      ]
     },
     "metadata": {},
     "output_type": "display_data"
    }
   ],
   "source": [
    "baseRate = 2\n",
    "generatingBaseRate = 1\n",
    "timeThreshold = 20\n",
    "\n",
    "generateTimeList = generateSample4Homogeneous(baseRate, timeThreshold)\n",
    "\n",
    "plotTimeLine(generateTimeList)"
   ]
  },
  {
   "cell_type": "code",
   "execution_count": 30,
   "metadata": {},
   "outputs": [
    {
     "name": "stdout",
     "output_type": "stream",
     "text": [
      "23\n"
     ]
    },
    {
     "data": {
      "image/png": "[encoded data removed]",
      "text/plain": [
       "<matplotlib.figure.Figure at 0x7f70df851f10>"
      ]
     },
     "metadata": {},
     "output_type": "display_data"
    }
   ],
   "source": [
    "baseRate = 2\n",
    "generatingBaseRate = 1\n",
    "timeThreshold = 20\n",
    "\n",
    "generateTimeList = generateSample4Imhomogeneous(baseRate, generatingBaseRate, timeThreshold)\n",
    "\n",
    "plotTimeLine(generateTimeList)"
   ]
  },
  {
   "cell_type": "code",
   "execution_count": 34,
   "metadata": {
    "collapsed": true
   },
   "outputs": [],
   "source": [
    "def generateHPRate(HPBaseRate, influenceFactor, decayFactor, HPTimeList, curTime):\n",
    "    historicalEffect = np.sum(influenceFactor*np.exp(-decayFactor*(curTime - np.array(HPTimeList))))\n",
    "    HPRate = HPBaseRate + historicalEffect\n",
    "    \n",
    "    return HPRate"
   ]
  },
  {
   "cell_type": "code",
   "execution_count": 35,
   "metadata": {
    "collapsed": true
   },
   "outputs": [],
   "source": [
    "def generateHPSample(HPBaseRate, influenceFactor, decayFactor, timeThreshold):\n",
    "    proposalTime = 0\n",
    "    generateHPTime = 0\n",
    "    generateHPTimeList = []\n",
    "    lastHPRate = 0\n",
    "    curHPRate = 0\n",
    "    \n",
    "    while proposalTime < timeThreshold:\n",
    "        lastHPRate = generateHPRate(HPBaseRate, influenceFactor, decayFactor, generateHPTimeList, proposalTime)\n",
    "        timeInterval = nextTime(lastHPRate)\n",
    "        proposalTime = proposalTime + timeInterval\n",
    "        curHPRate = generateHPRate(HPBaseRate, influenceFactor, decayFactor, generateHPTimeList, proposalTime)\n",
    "        \n",
    "        if acceptOrReject(lastHPRate, curHPRate):\n",
    "            generateHPTime = proposalTime\n",
    "            generateHPTimeList.append(generateHPTime)\n",
    "    \n",
    "    return generateHPTimeList"
   ]
  },
  {
   "cell_type": "code",
   "execution_count": 36,
   "metadata": {
    "collapsed": true
   },
   "outputs": [],
   "source": [
    "HPBaseRate = 1.2\n",
    "influenceFactor = 0.6\n",
    "decayFactor = 0.8\n",
    "timeThreshold = 20\n",
    "\n",
    "generateHPTimeList = generateHPSample(HPBaseRate, influenceFactor, decayFactor, timeThreshold)"
   ]
  },
  {
   "cell_type": "code",
   "execution_count": 37,
   "metadata": {},
   "outputs": [
    {
     "name": "stdout",
     "output_type": "stream",
     "text": [
      "81\n"
     ]
    },
    {
     "data": {
      "image/png": "[encoded data removed]",
      "text/plain": [
       "<matplotlib.figure.Figure at 0x7f710a7b1e10>"
      ]
     },
     "metadata": {},
     "output_type": "display_data"
    }
   ],
   "source": [
    "plotTimeLine(generateHPTimeList)"
   ]
  },
  {
   "cell_type": "code",
   "execution_count": 31,
   "metadata": {
    "collapsed": true
   },
   "outputs": [],
   "source": [
    "a = [1, 2,3]"
   ]
  },
  {
   "cell_type": "code",
   "execution_count": 32,
   "metadata": {},
   "outputs": [
    {
     "data": {
      "text/plain": [
       "array([  2.71828183,   7.3890561 ,  20.08553692])"
      ]
     },
     "execution_count": 32,
     "metadata": {},
     "output_type": "execute_result"
    }
   ],
   "source": [
    "np.exp(np.array(a))"
   ]
  },
  {
   "cell_type": "code",
   "execution_count": null,
   "metadata": {
    "collapsed": true
   },
   "outputs": [],
   "source": []
  }
 ],
 "metadata": {
  "kernelspec": {
   "display_name": "Python 2",
   "language": "python",
   "name": "python2"
  },
  "language_info": {
   "codemirror_mode": {
    "name": "ipython",
    "version": 2
   },
   "file_extension": ".py",
   "mimetype": "text/x-python",
   "name": "python",
   "nbconvert_exporter": "python",
   "pygments_lexer": "ipython2",
   "version": "2.7.13"
  }
 },
 "nbformat": 4,
 "nbformat_minor": 2
}
